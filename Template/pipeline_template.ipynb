{
 "cells": [
  {
   "cell_type": "code",
   "execution_count": null,
   "id": "edd7e53f",
   "metadata": {},
   "outputs": [],
   "source": [
    "from sklearn.pipeline import Pipeline\n",
    "from sklearn.preprocessing import StandardScaler\n",
    "from sklearn.svm import SVC\n",
    "from sklearn.metrics import accuracy_score\n",
    "import itertools\n",
    "import pandas as pd\n",
    "\n",
    "pipe = Pipeline([\n",
    "    (\"scale\", StandardScaler()),\n",
    "    \"clf\", SVC(\n",
    "        kernel = kernel,\n",
    "        C=C,\n",
    "        gamma=gamma,\n",
    "        decision_function_shape=decision,\n",
    "        random_state=42\n",
    "    )\n",
    "])\n",
    "\n",
    "pipe.fit(X_train, y_train)\n",
    "#ect...\n",
    "\n",
    "\n",
    "results = pd.DataFrame(results, columns=[\"accuracy\", \"kernel\", \"C\", \"gamma\", \"decision\"])"
   ]
  },
  {
   "cell_type": "code",
   "execution_count": null,
   "id": "90be2098",
   "metadata": {},
   "outputs": [],
   "source": []
  }
 ],
 "metadata": {
  "language_info": {
   "name": "python"
  }
 },
 "nbformat": 4,
 "nbformat_minor": 5
}
