{
 "cells": [
  {
   "cell_type": "code",
   "execution_count": null,
   "id": "edd7e53f",
   "metadata": {},
   "outputs": [],
   "source": [
    "from sklearn.svm import SVC\n",
    "from sklearn.metrics import accuracy_score\n",
    "import itertools\n",
    "import pandas as pd\n",
    "import numpy as np\n",
    "\n",
    "parameter_grid = {\n",
    "    \"kernel\": [\"linear\", \"poly\", \"rbf\"],\n",
    "    \"C\": [0.1, 1, 10, 100],\n",
    "    \"gamma\": [\"scale\", \"auto\"],\n",
    "    \"decision_function_shape\": [\"ovo\", \"ovr\"]\n",
    "}\n",
    "\n",
    "results = []\n",
    "\n",
    "for kernel, C, gamma, decision in itertools.product(\n",
    "    parameter_grid[\"kernel\"],\n",
    "    parameter_grid[\"C\"],\n",
    "    parameter_grid[\"gamma\"],\n",
    "    parameter_grid[\"decision_function_shape\"]\n",
    "):\n",
    "    svm_model = SVC(\n",
    "        kernel=kernel,\n",
    "        C=C,\n",
    "        gamma=gamma,\n",
    "        decision_function_shape=decision,\n",
    "        random_state=42\n",
    "    )\n",
    "    svm_model.fit(X_train, y_train)\n",
    "    y_val_hat = svm_model.predict(X_val)\n",
    "    accuracy = accuracy_score(y_val, y_val_hat)\n",
    "    results.append([accuracy, kernel, C, gamma, decision])\n",
    "\n",
    "results = pd.DataFrame(results, columns=[\"accuracy\", \"kernel\", \"C\", \"gamma\", \"decision\"])"
   ]
  }
 ],
 "metadata": {
  "language_info": {
   "name": "python"
  }
 },
 "nbformat": 4,
 "nbformat_minor": 5
}
