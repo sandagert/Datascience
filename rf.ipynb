{
 "cells": [
  {
   "cell_type": "code",
   "execution_count": null,
   "id": "b79f524f",
   "metadata": {},
   "outputs": [],
   "source": [
    "from sklearn.datasets import fetch_california_housing\n",
    "from sklearn.model_selection import train_test_split\n",
    "from sklearn.metrics import mean_squared_error\n",
    "from sklearn import ensemble\n",
    "import tqdm\n",
    "import pandas as pd\n",
    "import numpy as np\n",
    "\n",
    "X, y = fetch_california_housing(return_X_y=True)\n",
    "\n",
    "housing_data = fetch_california_housing()\n",
    "print(housing_data.DESCR)\n",
    "\n",
    "# Use `train_test_split` to split your data into a train and a test set.\n",
    "X_train, X_test, y_train, y_test = train_test_split(X, y, test_size=0.2, random_state=42)\n",
    "\n",
    "# Use `train_test_split` to split your train data into a train and a validation  set.\n",
    "#X_train, X_val, y_train, y_val   = train_test_split(X_train,\n",
    "#                                                   y_train,\n",
    "#                                                   test_size=0.2,\n",
    "#                                                   random_state=42)\n",
    "\n",
    "#rint(X_train.shape, X_val.shape, X_test.shape, y_train.shape, y_val.shape, y_test.shape)"
   ]
  },
  {
   "cell_type": "code",
   "execution_count": null,
   "id": "62484487",
   "metadata": {},
   "outputs": [],
   "source": [
    "from sklearn.model_selection import GridSearchCV\n",
    "from sklearn.ensemble import RandomForestRegressor\n",
    "\n",
    "param_grid = {\n",
    "    \"n_estimators\": [100, 200, 300, 400, 500],\n",
    "    \"max_features\": [1.0, \"sqrt\", \"log2\", 0.5],\n",
    "    \"max_depth\": [None, 10, 20],\n",
    "    \"min_samples_split\": [2, 5, 10],\n",
    "    \"min_samples_leaf\": [1, 2, 4],\n",
    "    \"bootstrap\": [True]\n",
    "}\n",
    "\n",
    "rf = RandomForestRegressor(random_state=42, n_jobs=1)\n",
    "gs = GridSearchCV(rf, param_grid, cv=5, n_jobs=-4, scoring=\"neg_mean_squared_error\", pre_dispatch=\"2*n_jobs\", verbose=1)\n",
    "gs.fit(X_train, y_train)\n",
    "\n",
    "best = gs.best_estimator_\n",
    "y_val_hat = best.predict(X_test)\n",
    "print(\"Best params:\", gs.best_params_)\n",
    "print(\"Best CV MSE:\", -gs.best_score_)"
   ]
  }
 ],
 "metadata": {
  "language_info": {
   "name": "python"
  }
 },
 "nbformat": 4,
 "nbformat_minor": 5
}
