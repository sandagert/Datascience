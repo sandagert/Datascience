{
 "cells": [
  {
   "cell_type": "code",
   "execution_count": null,
   "id": "e3a51c68",
   "metadata": {},
   "outputs": [],
   "source": [
    "from sklearn.tree import DecisionTreeClassifier\n",
    "from sklearn.metrics import accuracy_score\n",
    "import itertools\n",
    "import pandas as pd\n",
    "import numpy as np\n",
    "\n",
    "parameter_grid = {\n",
    "    \"max_depth\": [None, 5, 10, 20],\n",
    "    \"min_sample_split\": [2, 5, 10],\n",
    "    \"min_samples_leaf\": [1, 2, 3, 4],\n",
    "    \"max_features\": [None, \"sqrt\", \"log2\"]\n",
    "}\n",
    "\n",
    "results = []\n",
    "\n",
    "for max_depth, min_split, min_leaf, max_feat in itertools.product(parameter_grid[\"max_depth\"], parameter_grid[\"min_sample_split\"], parameter_grid[\"min_samples_leaf\"], parameter_grid[\"max_features\"]):\n",
    "    dt = DecisionTreeClassifier(\n",
    "        max_depth=max_depth,\n",
    "        min_samples_split=min_split,\n",
    "        min_samples_leaf=min_leaf,\n",
    "        max_features=max_feat,\n",
    "        random_state=42\n",
    "    )\n",
    "    dt.fit(X_train, y_train)\n",
    "    y_val_hat = dt.predict(x_val)\n",
    "    accuracy = accuracy_score(y_val, y_val_hat)\n",
    "    results.append([accuracy, max_depth, min_split, min_leaf, max_feat])\n",
    "\n",
    "results = pd.DataFrame(results, columns=[\"accuracy\", \"max_dept\", \"min_split\", \"min_leaf\", \"max_feat\"])"
   ]
  }
 ],
 "metadata": {
  "language_info": {
   "name": "python"
  }
 },
 "nbformat": 4,
 "nbformat_minor": 5
}
